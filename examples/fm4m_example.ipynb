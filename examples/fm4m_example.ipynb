{
 "cells": [
  {
   "cell_type": "markdown",
   "id": "4f785a51-5af7-4a11-a5a6-fb7b71e373d0",
   "metadata": {},
   "source": [
    "### Import libraries"
   ]
  },
  {
   "cell_type": "code",
   "execution_count": 1,
   "id": "403d85da-b26a-4ced-b7e4-c0ec74e86c0b",
   "metadata": {},
   "outputs": [],
   "source": [
    "import sys\n",
    "sys.path.append(\"../models\")\n",
    "sys.path.append(\"../\")"
   ]
  },
  {
   "cell_type": "code",
   "execution_count": 2,
   "id": "a7610e70-8f79-4f75-9502-24fa8179d39a",
   "metadata": {},
   "outputs": [],
   "source": [
    "import models.fm4m as fm4m\n",
    "import pandas as pd\n",
    "import numpy as np\n",
    "from sklearn.svm import SVR\n",
    "from sklearn.compose import TransformedTargetRegressor\n",
    "from sklearn.preprocessing import MinMaxScaler\n",
    "from sklearn.metrics import mean_squared_error"
   ]
  },
  {
   "cell_type": "markdown",
   "id": "240fbad8-6e5f-4c9f-873d-3274675f0154",
   "metadata": {},
   "source": [
    "### Load data "
   ]
  },
  {
   "cell_type": "code",
   "execution_count": 3,
   "id": "5f09f7dd-f0e0-416d-9850-a9560254d648",
   "metadata": {},
   "outputs": [],
   "source": [
    "train_df  = pd.read_csv(f\"../data/bace/train.csv\")\n",
    "test_df  = pd.read_csv(f\"../data/bace/test.csv\")"
   ]
  },
  {
   "cell_type": "code",
   "execution_count": 4,
   "id": "92825143-daba-4582-990e-61bc9b79f1d5",
   "metadata": {
    "scrolled": true
   },
   "outputs": [
    {
     "data": {
      "text/html": [
       "<div>\n",
       "<style scoped>\n",
       "    .dataframe tbody tr th:only-of-type {\n",
       "        vertical-align: middle;\n",
       "    }\n",
       "\n",
       "    .dataframe tbody tr th {\n",
       "        vertical-align: top;\n",
       "    }\n",
       "\n",
       "    .dataframe thead th {\n",
       "        text-align: right;\n",
       "    }\n",
       "</style>\n",
       "<table border=\"1\" class=\"dataframe\">\n",
       "  <thead>\n",
       "    <tr style=\"text-align: right;\">\n",
       "      <th></th>\n",
       "      <th>smiles</th>\n",
       "      <th>CID</th>\n",
       "      <th>Class</th>\n",
       "      <th>Unnamed: 3</th>\n",
       "      <th>pIC50</th>\n",
       "      <th>MW</th>\n",
       "      <th>AlogP</th>\n",
       "      <th>HBA</th>\n",
       "      <th>HBD</th>\n",
       "      <th>RB</th>\n",
       "      <th>...</th>\n",
       "      <th>PEOE6 (PEOE6)</th>\n",
       "      <th>PEOE7 (PEOE7)</th>\n",
       "      <th>PEOE8 (PEOE8)</th>\n",
       "      <th>PEOE9 (PEOE9)</th>\n",
       "      <th>PEOE10 (PEOE10)</th>\n",
       "      <th>PEOE11 (PEOE11)</th>\n",
       "      <th>PEOE12 (PEOE12)</th>\n",
       "      <th>PEOE13 (PEOE13)</th>\n",
       "      <th>PEOE14 (PEOE14)</th>\n",
       "      <th>canvasUID</th>\n",
       "    </tr>\n",
       "  </thead>\n",
       "  <tbody>\n",
       "    <tr>\n",
       "      <th>0</th>\n",
       "      <td>O1CC[C@@H](NC(=O)[C@@H](Cc2cc3cc(ccc3nc2N)-c2c...</td>\n",
       "      <td>BACE_1</td>\n",
       "      <td>1</td>\n",
       "      <td>NaN</td>\n",
       "      <td>9.154901</td>\n",
       "      <td>431.56979</td>\n",
       "      <td>4.4014</td>\n",
       "      <td>3</td>\n",
       "      <td>2</td>\n",
       "      <td>5</td>\n",
       "      <td>...</td>\n",
       "      <td>53.205711</td>\n",
       "      <td>78.640335</td>\n",
       "      <td>226.85541</td>\n",
       "      <td>107.43491</td>\n",
       "      <td>37.133846</td>\n",
       "      <td>0.000000</td>\n",
       "      <td>7.980170</td>\n",
       "      <td>0.000000</td>\n",
       "      <td>0.000000</td>\n",
       "      <td>1</td>\n",
       "    </tr>\n",
       "    <tr>\n",
       "      <th>1</th>\n",
       "      <td>S1(=O)(=O)N(c2cc(cc3c2n(cc3CC)CC1)C(=O)N[C@H](...</td>\n",
       "      <td>BACE_3</td>\n",
       "      <td>1</td>\n",
       "      <td>NaN</td>\n",
       "      <td>8.698970</td>\n",
       "      <td>591.74091</td>\n",
       "      <td>2.5499</td>\n",
       "      <td>4</td>\n",
       "      <td>3</td>\n",
       "      <td>11</td>\n",
       "      <td>...</td>\n",
       "      <td>70.365707</td>\n",
       "      <td>47.941147</td>\n",
       "      <td>192.40652</td>\n",
       "      <td>255.75255</td>\n",
       "      <td>23.654478</td>\n",
       "      <td>0.230159</td>\n",
       "      <td>15.879790</td>\n",
       "      <td>0.000000</td>\n",
       "      <td>24.663788</td>\n",
       "      <td>3</td>\n",
       "    </tr>\n",
       "    <tr>\n",
       "      <th>2</th>\n",
       "      <td>S1(=O)(=O)N(c2cc(cc3c2n(cc3CC)CC1)C(=O)N[C@H](...</td>\n",
       "      <td>BACE_5</td>\n",
       "      <td>1</td>\n",
       "      <td>NaN</td>\n",
       "      <td>8.698970</td>\n",
       "      <td>629.71283</td>\n",
       "      <td>3.5086</td>\n",
       "      <td>3</td>\n",
       "      <td>3</td>\n",
       "      <td>11</td>\n",
       "      <td>...</td>\n",
       "      <td>78.945702</td>\n",
       "      <td>39.361153</td>\n",
       "      <td>179.71288</td>\n",
       "      <td>220.46130</td>\n",
       "      <td>23.654478</td>\n",
       "      <td>0.230159</td>\n",
       "      <td>15.879790</td>\n",
       "      <td>0.000000</td>\n",
       "      <td>26.100143</td>\n",
       "      <td>5</td>\n",
       "    </tr>\n",
       "    <tr>\n",
       "      <th>3</th>\n",
       "      <td>S(=O)(=O)(CCCCC)C[C@@H](NC(=O)c1cccnc1)C(=O)N[...</td>\n",
       "      <td>BACE_7</td>\n",
       "      <td>1</td>\n",
       "      <td>NaN</td>\n",
       "      <td>8.698970</td>\n",
       "      <td>645.78009</td>\n",
       "      <td>3.1973</td>\n",
       "      <td>5</td>\n",
       "      <td>4</td>\n",
       "      <td>18</td>\n",
       "      <td>...</td>\n",
       "      <td>63.830162</td>\n",
       "      <td>52.390511</td>\n",
       "      <td>263.78134</td>\n",
       "      <td>190.54213</td>\n",
       "      <td>45.370659</td>\n",
       "      <td>0.000000</td>\n",
       "      <td>23.859961</td>\n",
       "      <td>0.000000</td>\n",
       "      <td>24.663788</td>\n",
       "      <td>7</td>\n",
       "    </tr>\n",
       "    <tr>\n",
       "      <th>4</th>\n",
       "      <td>O1c2c(cc(cc2)CC)[C@@H]([NH2+]C[C@@H](O)[C@H]2N...</td>\n",
       "      <td>BACE_9</td>\n",
       "      <td>1</td>\n",
       "      <td>NaN</td>\n",
       "      <td>8.602060</td>\n",
       "      <td>556.71503</td>\n",
       "      <td>4.7010</td>\n",
       "      <td>4</td>\n",
       "      <td>3</td>\n",
       "      <td>5</td>\n",
       "      <td>...</td>\n",
       "      <td>53.205711</td>\n",
       "      <td>68.418541</td>\n",
       "      <td>299.00003</td>\n",
       "      <td>140.68362</td>\n",
       "      <td>28.755558</td>\n",
       "      <td>0.000000</td>\n",
       "      <td>15.879790</td>\n",
       "      <td>6.904104</td>\n",
       "      <td>24.663788</td>\n",
       "      <td>9</td>\n",
       "    </tr>\n",
       "  </tbody>\n",
       "</table>\n",
       "<p>5 rows × 595 columns</p>\n",
       "</div>"
      ],
      "text/plain": [
       "                                              smiles     CID  Class  \\\n",
       "0  O1CC[C@@H](NC(=O)[C@@H](Cc2cc3cc(ccc3nc2N)-c2c...  BACE_1      1   \n",
       "1  S1(=O)(=O)N(c2cc(cc3c2n(cc3CC)CC1)C(=O)N[C@H](...  BACE_3      1   \n",
       "2  S1(=O)(=O)N(c2cc(cc3c2n(cc3CC)CC1)C(=O)N[C@H](...  BACE_5      1   \n",
       "3  S(=O)(=O)(CCCCC)C[C@@H](NC(=O)c1cccnc1)C(=O)N[...  BACE_7      1   \n",
       "4  O1c2c(cc(cc2)CC)[C@@H]([NH2+]C[C@@H](O)[C@H]2N...  BACE_9      1   \n",
       "\n",
       "   Unnamed: 3     pIC50         MW   AlogP  HBA  HBD  RB  ...  PEOE6 (PEOE6)  \\\n",
       "0         NaN  9.154901  431.56979  4.4014    3    2   5  ...      53.205711   \n",
       "1         NaN  8.698970  591.74091  2.5499    4    3  11  ...      70.365707   \n",
       "2         NaN  8.698970  629.71283  3.5086    3    3  11  ...      78.945702   \n",
       "3         NaN  8.698970  645.78009  3.1973    5    4  18  ...      63.830162   \n",
       "4         NaN  8.602060  556.71503  4.7010    4    3   5  ...      53.205711   \n",
       "\n",
       "   PEOE7 (PEOE7)  PEOE8 (PEOE8)  PEOE9 (PEOE9)  PEOE10 (PEOE10)  \\\n",
       "0      78.640335      226.85541      107.43491        37.133846   \n",
       "1      47.941147      192.40652      255.75255        23.654478   \n",
       "2      39.361153      179.71288      220.46130        23.654478   \n",
       "3      52.390511      263.78134      190.54213        45.370659   \n",
       "4      68.418541      299.00003      140.68362        28.755558   \n",
       "\n",
       "   PEOE11 (PEOE11)  PEOE12 (PEOE12)  PEOE13 (PEOE13)  PEOE14 (PEOE14)  \\\n",
       "0         0.000000         7.980170         0.000000         0.000000   \n",
       "1         0.230159        15.879790         0.000000        24.663788   \n",
       "2         0.230159        15.879790         0.000000        26.100143   \n",
       "3         0.000000        23.859961         0.000000        24.663788   \n",
       "4         0.000000        15.879790         6.904104        24.663788   \n",
       "\n",
       "   canvasUID  \n",
       "0          1  \n",
       "1          3  \n",
       "2          5  \n",
       "3          7  \n",
       "4          9  \n",
       "\n",
       "[5 rows x 595 columns]"
      ]
     },
     "execution_count": 4,
     "metadata": {},
     "output_type": "execute_result"
    }
   ],
   "source": [
    "train_df.head()"
   ]
  },
  {
   "cell_type": "code",
   "execution_count": 5,
   "id": "d3e92440-92bc-4984-b0f3-ccfb4b394edf",
   "metadata": {},
   "outputs": [],
   "source": [
    "xtrain = list(train_df[\"smiles\"].values)\n",
    "ytrain = list(train_df[\"Class\"].values)\n",
    "\n",
    "xtest = list(test_df[\"smiles\"].values) \n",
    "ytest = list(test_df[\"Class\"].values)"
   ]
  },
  {
   "cell_type": "markdown",
   "id": "1c7e1961-6832-4740-a1bf-5ae092f6ee8f",
   "metadata": {},
   "source": [
    "### List of available models"
   ]
  },
  {
   "cell_type": "markdown",
   "id": "7c0fe759-10b6-45b3-a719-a626ffd24060",
   "metadata": {},
   "source": [
    "#### Base Models"
   ]
  },
  {
   "cell_type": "code",
   "execution_count": 6,
   "id": "182d3baf-b7bb-4b73-bfe1-5c3623441e36",
   "metadata": {},
   "outputs": [
    {
     "data": {
      "text/html": [
       "<div>\n",
       "<style scoped>\n",
       "    .dataframe tbody tr th:only-of-type {\n",
       "        vertical-align: middle;\n",
       "    }\n",
       "\n",
       "    .dataframe tbody tr th {\n",
       "        vertical-align: top;\n",
       "    }\n",
       "\n",
       "    .dataframe thead th {\n",
       "        text-align: right;\n",
       "    }\n",
       "</style>\n",
       "<table border=\"1\" class=\"dataframe\">\n",
       "  <thead>\n",
       "    <tr style=\"text-align: right;\">\n",
       "      <th></th>\n",
       "      <th>Model Name</th>\n",
       "      <th>Description</th>\n",
       "    </tr>\n",
       "  </thead>\n",
       "  <tbody>\n",
       "    <tr>\n",
       "      <th>0</th>\n",
       "      <td>SMI-TED</td>\n",
       "      <td>SMILES based encoder decoder model</td>\n",
       "    </tr>\n",
       "    <tr>\n",
       "      <th>1</th>\n",
       "      <td>SELFIES-TED</td>\n",
       "      <td>BART model for string based SELFIES modality</td>\n",
       "    </tr>\n",
       "    <tr>\n",
       "      <th>2</th>\n",
       "      <td>MolFormer</td>\n",
       "      <td>MolFormer model for string based SMILES modality</td>\n",
       "    </tr>\n",
       "    <tr>\n",
       "      <th>3</th>\n",
       "      <td>MHG-GED</td>\n",
       "      <td>Molecular hypergraph model</td>\n",
       "    </tr>\n",
       "  </tbody>\n",
       "</table>\n",
       "</div>"
      ],
      "text/plain": [
       "    Model Name                                       Description\n",
       "0      SMI-TED                SMILES based encoder decoder model\n",
       "1  SELFIES-TED      BART model for string based SELFIES modality\n",
       "2    MolFormer  MolFormer model for string based SMILES modality\n",
       "3      MHG-GED                        Molecular hypergraph model"
      ]
     },
     "execution_count": 6,
     "metadata": {},
     "output_type": "execute_result"
    }
   ],
   "source": [
    "fm4m.avail_models()"
   ]
  },
  {
   "cell_type": "markdown",
   "id": "5ca6fe23-2202-43a4-9f1e-743470e74e65",
   "metadata": {},
   "source": [
    "#### Downstream Models"
   ]
  },
  {
   "cell_type": "code",
   "execution_count": 7,
   "id": "c3f17894-5ce1-4390-a431-00d640a0c633",
   "metadata": {},
   "outputs": [
    {
     "data": {
      "text/html": [
       "<div>\n",
       "<style scoped>\n",
       "    .dataframe tbody tr th:only-of-type {\n",
       "        vertical-align: middle;\n",
       "    }\n",
       "\n",
       "    .dataframe tbody tr th {\n",
       "        vertical-align: top;\n",
       "    }\n",
       "\n",
       "    .dataframe thead th {\n",
       "        text-align: right;\n",
       "    }\n",
       "</style>\n",
       "<table border=\"1\" class=\"dataframe\">\n",
       "  <thead>\n",
       "    <tr style=\"text-align: right;\">\n",
       "      <th></th>\n",
       "      <th>Name</th>\n",
       "      <th>Task Type</th>\n",
       "    </tr>\n",
       "  </thead>\n",
       "  <tbody>\n",
       "    <tr>\n",
       "      <th>0</th>\n",
       "      <td>XGBClassifier</td>\n",
       "      <td>Classfication</td>\n",
       "    </tr>\n",
       "    <tr>\n",
       "      <th>1</th>\n",
       "      <td>DefaultClassifier</td>\n",
       "      <td>Classfication</td>\n",
       "    </tr>\n",
       "    <tr>\n",
       "      <th>2</th>\n",
       "      <td>SVR</td>\n",
       "      <td>Regression</td>\n",
       "    </tr>\n",
       "    <tr>\n",
       "      <th>3</th>\n",
       "      <td>Kernel Ridge</td>\n",
       "      <td>Regression</td>\n",
       "    </tr>\n",
       "    <tr>\n",
       "      <th>4</th>\n",
       "      <td>Linear Regression</td>\n",
       "      <td>Regression</td>\n",
       "    </tr>\n",
       "    <tr>\n",
       "      <th>5</th>\n",
       "      <td>DefaultRegressor</td>\n",
       "      <td>Regression</td>\n",
       "    </tr>\n",
       "  </tbody>\n",
       "</table>\n",
       "</div>"
      ],
      "text/plain": [
       "                Name      Task Type\n",
       "0      XGBClassifier  Classfication\n",
       "1  DefaultClassifier  Classfication\n",
       "2                SVR     Regression\n",
       "3       Kernel Ridge     Regression\n",
       "4  Linear Regression     Regression\n",
       "5   DefaultRegressor     Regression"
      ]
     },
     "execution_count": 7,
     "metadata": {},
     "output_type": "execute_result"
    }
   ],
   "source": [
    "fm4m.avail_downstream_models()"
   ]
  },
  {
   "cell_type": "markdown",
   "id": "61e524cf-328f-4aca-94cb-7c9830404c09",
   "metadata": {},
   "source": [
    "### Example of single-modal model usage"
   ]
  },
  {
   "cell_type": "markdown",
   "id": "64fa5847-dcd7-4cbb-a987-ac7620764ee9",
   "metadata": {},
   "source": [
    "#### Model Type : SELFIES-TED"
   ]
  },
  {
   "cell_type": "code",
   "execution_count": 8,
   "id": "d4e2ff0d-ecf8-4bd3-b64a-a8cdfcba0a75",
   "metadata": {
    "scrolled": true
   },
   "outputs": [
    {
     "name": "stdout",
     "output_type": "stream",
     "text": [
      "SELFIES-TED\n"
     ]
    },
    {
     "name": "stderr",
     "output_type": "stream",
     "text": [
      "/Users/indrapriyadarsinis/.pyenv/versions/3.10.8/envs/amd/lib/python3.10/site-packages/huggingface_hub/file_download.py:1132: FutureWarning: `resume_download` is deprecated and will be removed in version 1.0.0. Downloads always resume when possible. If you want to force a new download, use `force_download=True`.\n",
      "  warnings.warn(\n",
      "Special tokens have been added in the vocabulary, make sure the associated word embeddings are fine-tuned or trained.\n"
     ]
    },
    {
     "data": {
      "application/vnd.jupyter.widget-view+json": {
       "model_id": "db3969c9ce8f4b1f8d0c2e89b07478d2",
       "version_major": 2,
       "version_minor": 0
      },
      "text/plain": [
       "Map:   0%|          | 0/1209 [00:00<?, ? examples/s]"
      ]
     },
     "metadata": {},
     "output_type": "display_data"
    },
    {
     "data": {
      "application/vnd.jupyter.widget-view+json": {
       "model_id": "e6e0945358be45738bc4e20701b18d68",
       "version_major": 2,
       "version_minor": 0
      },
      "text/plain": [
       "Map:   0%|          | 0/152 [00:00<?, ? examples/s]"
      ]
     },
     "metadata": {},
     "output_type": "display_data"
    },
    {
     "name": "stdout",
     "output_type": "stream",
     "text": [
      " Calculating ROC AUC Score ...\n",
      "ROC-AUC Score: 0.8520\n",
      "Generating latent plots\n",
      "Generating latent plots : Done\n"
     ]
    }
   ],
   "source": [
    "result = fm4m.single_modal(model=\"SELFIES-TED\", x_train=xtrain, y_train=ytrain, x_test=xtest, y_test=ytest, downstream_model=\"DefaultClassifier\")"
   ]
  },
  {
   "cell_type": "code",
   "execution_count": 9,
   "id": "ebb3c57a-6c71-4520-a238-c687f35e9b1c",
   "metadata": {},
   "outputs": [
    {
     "data": {
      "text/plain": [
       "'ROC-AUC Score: 0.8520'"
      ]
     },
     "execution_count": 9,
     "metadata": {},
     "output_type": "execute_result"
    }
   ],
   "source": [
    "result[0]"
   ]
  },
  {
   "cell_type": "markdown",
   "id": "ee508f73-cdcb-4e52-afa4-866c3735f71f",
   "metadata": {},
   "source": [
    "#### Model Type : MHG-GNN"
   ]
  },
  {
   "cell_type": "code",
   "execution_count": 10,
   "id": "22d4e500-77a1-4903-a18d-5ec33c8e5ff4",
   "metadata": {
    "scrolled": true
   },
   "outputs": [
    {
     "name": "stdout",
     "output_type": "stream",
     "text": [
      "MHG-GED\n",
      " Calculating ROC AUC Score ...\n",
      "ROC-AUC Score: 0.8690\n",
      "Generating latent plots\n",
      "Generating latent plots : Done\n"
     ]
    }
   ],
   "source": [
    "result = fm4m.single_modal(model=\"MHG-GED\", x_train=xtrain, y_train=ytrain, x_test=xtest, y_test=ytest, downstream_model=\"DefaultClassifier\")"
   ]
  },
  {
   "cell_type": "code",
   "execution_count": 11,
   "id": "1cd1828f-92b8-4dca-b535-e54d15fe27ee",
   "metadata": {},
   "outputs": [
    {
     "data": {
      "text/plain": [
       "'ROC-AUC Score: 0.8690'"
      ]
     },
     "execution_count": 11,
     "metadata": {},
     "output_type": "execute_result"
    }
   ],
   "source": [
    "result[0]"
   ]
  },
  {
   "cell_type": "markdown",
   "id": "1780a26f-73df-4d8f-85db-0ad55c277779",
   "metadata": {},
   "source": [
    "#### Model Type : SMI-TED"
   ]
  },
  {
   "cell_type": "code",
   "execution_count": 12,
   "id": "548fc932-d594-418e-88b8-3413379dc0b2",
   "metadata": {
    "scrolled": true
   },
   "outputs": [
    {
     "name": "stdout",
     "output_type": "stream",
     "text": [
      "SMI-TED\n",
      "Random Seed: 12345\n",
      "Using Rotation Embedding\n",
      "Using Rotation Embedding\n",
      "Using Rotation Embedding\n",
      "Using Rotation Embedding\n",
      "Using Rotation Embedding\n",
      "Using Rotation Embedding\n",
      "Using Rotation Embedding\n",
      "Using Rotation Embedding\n",
      "Using Rotation Embedding\n",
      "Using Rotation Embedding\n",
      "Using Rotation Embedding\n",
      "Using Rotation Embedding\n",
      "Vocab size: 2393\n",
      "[INFERENCE MODE - smi-ted-Light]\n"
     ]
    },
    {
     "name": "stderr",
     "output_type": "stream",
     "text": [
      "100%|█████████████████████████████████████████████████████████████████████████████████████████████████████████████████████████████████████████████████████████| 12/12 [00:16<00:00,  1.37s/it]\n",
      "100%|███████████████████████████████████████████████████████████████████████████████████████████████████████████████████████████████████████████████████████████| 1/1 [00:02<00:00,  2.22s/it]\n"
     ]
    },
    {
     "name": "stdout",
     "output_type": "stream",
     "text": [
      " Calculating ROC AUC Score ...\n",
      "ROC-AUC Score: 0.8267\n",
      "Generating latent plots\n",
      "Generating latent plots : Done\n"
     ]
    }
   ],
   "source": [
    "result = fm4m.single_modal(model=\"SMI-TED\", x_train=xtrain, y_train=ytrain, x_test=xtest, y_test=ytest, downstream_model=\"DefaultClassifier\")"
   ]
  },
  {
   "cell_type": "code",
   "execution_count": 13,
   "id": "573768ab-3831-4b39-a4b9-3c797395c141",
   "metadata": {},
   "outputs": [
    {
     "data": {
      "text/plain": [
       "'ROC-AUC Score: 0.8267'"
      ]
     },
     "execution_count": 13,
     "metadata": {},
     "output_type": "execute_result"
    }
   ],
   "source": [
    "result[0]"
   ]
  },
  {
   "cell_type": "markdown",
   "id": "9816459b-9665-476f-9481-b1dfece13a3c",
   "metadata": {},
   "source": [
    "### Example of multi-modal model usage"
   ]
  },
  {
   "cell_type": "code",
   "execution_count": 14,
   "id": "1a54b3f9-4496-4474-9a98-08ce851f6ed0",
   "metadata": {},
   "outputs": [
    {
     "name": "stderr",
     "output_type": "stream",
     "text": [
      "/Users/indrapriyadarsinis/.pyenv/versions/3.10.8/envs/amd/lib/python3.10/site-packages/huggingface_hub/file_download.py:1132: FutureWarning: `resume_download` is deprecated and will be removed in version 1.0.0. Downloads always resume when possible. If you want to force a new download, use `force_download=True`.\n",
      "  warnings.warn(\n",
      "Special tokens have been added in the vocabulary, make sure the associated word embeddings are fine-tuned or trained.\n"
     ]
    },
    {
     "data": {
      "application/vnd.jupyter.widget-view+json": {
       "model_id": "35778eb528af4fceb113b46ab0aa88da",
       "version_major": 2,
       "version_minor": 0
      },
      "text/plain": [
       "Map:   0%|          | 0/1209 [00:00<?, ? examples/s]"
      ]
     },
     "metadata": {},
     "output_type": "display_data"
    },
    {
     "data": {
      "application/vnd.jupyter.widget-view+json": {
       "model_id": "ec1ad1aeb7a14baa8a7f284dcfe302b0",
       "version_major": 2,
       "version_minor": 0
      },
      "text/plain": [
       "Map:   0%|          | 0/152 [00:00<?, ? examples/s]"
      ]
     },
     "metadata": {},
     "output_type": "display_data"
    },
    {
     "name": "stdout",
     "output_type": "stream",
     "text": [
      "Random Seed: 12345\n",
      "Using Rotation Embedding\n",
      "Using Rotation Embedding\n",
      "Using Rotation Embedding\n",
      "Using Rotation Embedding\n",
      "Using Rotation Embedding\n",
      "Using Rotation Embedding\n",
      "Using Rotation Embedding\n",
      "Using Rotation Embedding\n",
      "Using Rotation Embedding\n",
      "Using Rotation Embedding\n",
      "Using Rotation Embedding\n",
      "Using Rotation Embedding\n",
      "Vocab size: 2393\n",
      "[INFERENCE MODE - smi-ted-Light]\n"
     ]
    },
    {
     "name": "stderr",
     "output_type": "stream",
     "text": [
      "100%|█████████████████████████████████████████████████████████████████████████████████████████████████████████████████████████████████████████████████████████| 12/12 [00:16<00:00,  1.38s/it]\n",
      "100%|███████████████████████████████████████████████████████████████████████████████████████████████████████████████████████████████████████████████████████████| 1/1 [00:02<00:00,  2.25s/it]\n"
     ]
    },
    {
     "name": "stdout",
     "output_type": "stream",
     "text": [
      "Representations loaded successfully\n",
      "Generating latent plots\n",
      "Generating latent plots : Done\n",
      " Calculating ROC AUC Score ...\n",
      "ROC-AUC Score: 0.8760\n",
      "ROC-AUC Score: 0.8760\n"
     ]
    }
   ],
   "source": [
    "result = fm4m.multi_modal(model_list=[\"SELFIES-TED\",\"MHG-GED\",\"SMI-TED\"], x_train=xtrain, y_train=ytrain, x_test=xtest, y_test=ytest, downstream_model=\"DefaultClassifier\")"
   ]
  },
  {
   "cell_type": "code",
   "execution_count": 15,
   "id": "1c0ff397-db2c-44e1-a3b2-578e393b3217",
   "metadata": {},
   "outputs": [
    {
     "data": {
      "text/plain": [
       "'ROC-AUC Score: 0.8760'"
      ]
     },
     "execution_count": 15,
     "metadata": {},
     "output_type": "execute_result"
    }
   ],
   "source": [
    "result[0]"
   ]
  }
 ],
 "metadata": {
  "kernelspec": {
   "display_name": "Python 3 (ipykernel)",
   "language": "python",
   "name": "python3"
  },
  "language_info": {
   "codemirror_mode": {
    "name": "ipython",
    "version": 3
   },
   "file_extension": ".py",
   "mimetype": "text/x-python",
   "name": "python",
   "nbconvert_exporter": "python",
   "pygments_lexer": "ipython3",
   "version": "3.10.8"
  }
 },
 "nbformat": 4,
 "nbformat_minor": 5
}
