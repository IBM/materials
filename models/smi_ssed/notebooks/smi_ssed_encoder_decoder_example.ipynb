{
 "cells": [
  {
   "cell_type": "markdown",
   "id": "e729c1d3-198e-4f92-9f6a-fd76dac09f38",
   "metadata": {},
   "source": [
    "# granite.materials.smi-SSED - Encoder & Decoder"
   ]
  },
  {
   "cell_type": "code",
   "execution_count": 1,
   "id": "a524ceeb-63b8-4306-aa6d-11ec6f091a58",
   "metadata": {},
   "outputs": [],
   "source": [
    "import sys\n",
    "sys.path.append('../inference')"
   ]
  },
  {
   "cell_type": "code",
   "execution_count": 2,
   "id": "65df0436-95b8-4f5c-9f42-3f2d761aaafc",
   "metadata": {},
   "outputs": [
    {
     "name": "stderr",
     "output_type": "stream",
     "text": [
      "/u/vshirasuna/miniforge3/envs/finetune/lib/python3.10/site-packages/tqdm/auto.py:21: TqdmWarning: IProgress not found. Please update jupyter and ipywidgets. See https://ipywidgets.readthedocs.io/en/stable/user_install.html\n",
      "  from .autonotebook import tqdm as notebook_tqdm\n"
     ]
    }
   ],
   "source": [
    "# materials.smi-ssed (smi-ssed)\n",
    "from smi_ssed.load import load_smi_ssed\n",
    "\n",
    "# Data\n",
    "import pandas as pd\n",
    "import numpy as np\n",
    "import torch\n",
    "\n",
    "# Chemistry\n",
    "from rdkit import Chem\n",
    "from rdkit.Chem import PandasTools\n",
    "from rdkit.Chem import Descriptors\n",
    "from rdkit.Chem import AllChem\n",
    "from rdkit.Chem import rdFingerprintGenerator\n",
    "from rdkit.DataStructs import FingerprintSimilarity\n",
    "from rdkit.DataStructs import TanimotoSimilarity"
   ]
  },
  {
   "cell_type": "code",
   "execution_count": 3,
   "id": "efbdc5e4-b91e-4365-b178-f6c170ef571e",
   "metadata": {},
   "outputs": [],
   "source": [
    "# function to canonicalize SMILES\n",
    "def normalize_smiles(smi, canonical=True, isomeric=False):\n",
    "    try:\n",
    "        normalized = Chem.MolToSmiles(\n",
    "            Chem.MolFromSmiles(smi), canonical=canonical, isomericSmiles=isomeric\n",
    "        )\n",
    "    except:\n",
    "        normalized = None\n",
    "    return normalized\n",
    "\n",
    "# function to calculate pairwise Tanimoto similarity\n",
    "def calculate_tanimoto_similarities(fps1, fps2):\n",
    "    similarities = []\n",
    "    for i in range(len(fps1)):\n",
    "            sim = TanimotoSimilarity(fps1[i], fps2[i])\n",
    "            similarities.append(sim)\n",
    "    return similarities"
   ]
  },
  {
   "cell_type": "markdown",
   "id": "a0365095-5811-4847-8406-c252399c01be",
   "metadata": {},
   "source": [
    "## Load smi-ssed"
   ]
  },
  {
   "cell_type": "code",
   "execution_count": 4,
   "id": "969822db-8c7b-4015-922b-4316e4476559",
   "metadata": {},
   "outputs": [
    {
     "name": "stderr",
     "output_type": "stream",
     "text": [
      "/u/vshirasuna/miniforge3/envs/finetune/lib/python3.10/site-packages/transformers/tokenization_utils_base.py:1601: FutureWarning: `clean_up_tokenization_spaces` was not set. It will be set to `True` by default. This behavior will be depracted in transformers v4.45, and will be then set to `False` by default. For more details check this issue: https://github.com/huggingface/transformers/issues/31884\n",
      "  warnings.warn(\n"
     ]
    },
    {
     "name": "stdout",
     "output_type": "stream",
     "text": [
      "Random Seed: 12345\n",
      "Vocab size: 2393\n",
      "[INFERENCE MODE - smi-ssed]\n"
     ]
    }
   ],
   "source": [
    "model_smi_ssed = load_smi_ssed(\n",
    "    folder='../inference/smi_ssed',\n",
    "    ckpt_filename='smi-ssed_130.pt'\n",
    ")"
   ]
  },
  {
   "cell_type": "markdown",
   "id": "e110cd63-489c-4014-92b2-8d20e93dc61e",
   "metadata": {},
   "source": [
    "## Load Dataset"
   ]
  },
  {
   "cell_type": "code",
   "execution_count": 5,
   "id": "11a3e8e1-9394-4a11-94e3-0fe746fba4d0",
   "metadata": {},
   "outputs": [],
   "source": [
    "df_moses = pd.read_csv(\"./data/moses_test.csv\", nrows=1000)"
   ]
  },
  {
   "cell_type": "code",
   "execution_count": 6,
   "id": "fd46402b-2b5c-4339-8fa2-c76e8cd14ab7",
   "metadata": {},
   "outputs": [
    {
     "name": "stdout",
     "output_type": "stream",
     "text": [
      "(1000, 1)\n"
     ]
    },
    {
     "data": {
      "text/html": [
       "<div>\n",
       "<style scoped>\n",
       "    .dataframe tbody tr th:only-of-type {\n",
       "        vertical-align: middle;\n",
       "    }\n",
       "\n",
       "    .dataframe tbody tr th {\n",
       "        vertical-align: top;\n",
       "    }\n",
       "\n",
       "    .dataframe thead th {\n",
       "        text-align: right;\n",
       "    }\n",
       "</style>\n",
       "<table border=\"1\" class=\"dataframe\">\n",
       "  <thead>\n",
       "    <tr style=\"text-align: right;\">\n",
       "      <th></th>\n",
       "      <th>SMILES</th>\n",
       "    </tr>\n",
       "  </thead>\n",
       "  <tbody>\n",
       "    <tr>\n",
       "      <th>0</th>\n",
       "      <td>CC1C2CCC(C2)C1CN(CCO)C(=O)c1ccc(Cl)cc1</td>\n",
       "    </tr>\n",
       "    <tr>\n",
       "      <th>1</th>\n",
       "      <td>COc1ccc(-c2cc(=O)c3c(O)c(OC)c(OC)cc3o2)cc1O</td>\n",
       "    </tr>\n",
       "    <tr>\n",
       "      <th>2</th>\n",
       "      <td>CCOC(=O)c1ncn2c1CN(C)C(=O)c1cc(F)ccc1-2</td>\n",
       "    </tr>\n",
       "    <tr>\n",
       "      <th>3</th>\n",
       "      <td>Clc1ccccc1-c1nc(-c2ccncc2)no1</td>\n",
       "    </tr>\n",
       "    <tr>\n",
       "      <th>4</th>\n",
       "      <td>CC(C)(Oc1ccc(Cl)cc1)C(=O)OCc1cccc(CO)n1</td>\n",
       "    </tr>\n",
       "  </tbody>\n",
       "</table>\n",
       "</div>"
      ],
      "text/plain": [
       "                                        SMILES\n",
       "0       CC1C2CCC(C2)C1CN(CCO)C(=O)c1ccc(Cl)cc1\n",
       "1  COc1ccc(-c2cc(=O)c3c(O)c(OC)c(OC)cc3o2)cc1O\n",
       "2      CCOC(=O)c1ncn2c1CN(C)C(=O)c1cc(F)ccc1-2\n",
       "3                Clc1ccccc1-c1nc(-c2ccncc2)no1\n",
       "4      CC(C)(Oc1ccc(Cl)cc1)C(=O)OCc1cccc(CO)n1"
      ]
     },
     "execution_count": 6,
     "metadata": {},
     "output_type": "execute_result"
    }
   ],
   "source": [
    "df_moses['SMILES'] = df_moses['SMILES'].apply(normalize_smiles)\n",
    "df_test_normalized = df_moses.dropna()\n",
    "print(df_test_normalized.shape)\n",
    "df_test_normalized.head()"
   ]
  },
  {
   "cell_type": "markdown",
   "id": "5144f3f9-3721-4af0-9efa-dddfef753e51",
   "metadata": {},
   "source": [
    "## Encode SMILES - smi-ssed"
   ]
  },
  {
   "cell_type": "code",
   "execution_count": 7,
   "id": "21b57921-6388-44ae-91a7-e40b4398845f",
   "metadata": {},
   "outputs": [
    {
     "name": "stderr",
     "output_type": "stream",
     "text": [
      "/u/vshirasuna/miniforge3/envs/finetune/lib/python3.10/site-packages/numpy/core/fromnumeric.py:59: FutureWarning: 'Series.swapaxes' is deprecated and will be removed in a future version. Please use 'Series.transpose' instead.\n",
      "  return bound(*args, **kwds)\n",
      "100%|████████████████████████████████████████████████████████████████████████████████| 10/10 [00:01<00:00,  6.07it/s]\n"
     ]
    }
   ],
   "source": [
    "with torch.no_grad():\n",
    "    encode_embeddings = model_smi_ssed.encode(df_moses['SMILES'], return_torch=True)"
   ]
  },
  {
   "cell_type": "markdown",
   "id": "d2adff1a-5225-4981-aa90-04a5c3ce453d",
   "metadata": {},
   "source": [
    "## Decode smi-ssed embeddings into SMILES"
   ]
  },
  {
   "cell_type": "code",
   "execution_count": 8,
   "id": "3a009dcf-eea8-445f-94c4-9b8321989d11",
   "metadata": {},
   "outputs": [],
   "source": [
    "with torch.no_grad():\n",
    "    decoded_smiles = model_smi_ssed.decode(encode_embeddings)"
   ]
  },
  {
   "cell_type": "code",
   "execution_count": 9,
   "id": "ba631cd0-b3d3-4ffb-b1dc-e4d1d6182cbe",
   "metadata": {},
   "outputs": [
    {
     "data": {
      "text/plain": [
       "['CC1C2CCC(C1)C1CN(CCO)C(=O)c1ccc(Cl)cc1',\n",
       " 'COc1ccc(-c2cc(=O)c3c(O)c(OC)c(OC)cc3o2)cc1O',\n",
       " 'CCOC(=O)c1ncn2c1CN(C)C(=O)c1cc(F)ccc1-2',\n",
       " 'Clc1ccccc1-c1nc(-c2ccncc2)no1',\n",
       " 'CC(C)(Oc1ccc(Cl)cc1)C(=O)OCc1cccc(CO)n1']"
      ]
     },
     "execution_count": 9,
     "metadata": {},
     "output_type": "execute_result"
    }
   ],
   "source": [
    "decoded_smiles[0:5]"
   ]
  },
  {
   "cell_type": "markdown",
   "id": "6d6061ce-e83a-4e39-809f-c467f4d59194",
   "metadata": {},
   "source": [
    "## Compare similarities"
   ]
  },
  {
   "cell_type": "code",
   "execution_count": 10,
   "id": "5af8bb22-7caa-43b4-99c5-2de2ba2d1da4",
   "metadata": {
    "scrolled": true
   },
   "outputs": [
    {
     "name": "stderr",
     "output_type": "stream",
     "text": [
      "[15:12:38] SMILES Parse Error: unclosed ring for input: 'CC1C2CCC(C1)C1CN(CCO)C(=O)c1ccc(Cl)cc1'\n",
      "[15:12:38] Can't kekulize mol.  Unkekulized atoms: 11 12 13 14 15 17 18\n",
      "[15:12:38] SMILES Parse Error: extra close parentheses while parsing: COc1ccc(C2c3ccnoc3C)CC(C)(O)C2C(C)=O)cc1\n",
      "[15:12:38] SMILES Parse Error: Failed parsing SMILES 'COc1ccc(C2c3ccnoc3C)CC(C)(O)C2C(C)=O)cc1' for input: 'COc1ccc(C2c3ccnoc3C)CC(C)(O)C2C(C)=O)cc1'\n"
     ]
    },
    {
     "name": "stdout",
     "output_type": "stream",
     "text": [
      "Mean Tanimoto Similarity: 1.00\n"
     ]
    }
   ],
   "source": [
    "# Convert SMILES to RDKit molecule objects\n",
    "mols1 = [Chem.MolFromSmiles(smiles) for smiles in df_moses['SMILES'].to_list()]\n",
    "mols2 = [Chem.MolFromSmiles(smiles) for smiles in decoded_smiles]\n",
    "\n",
    "# Filter null molecules\n",
    "null_mask = [False if value == None else True for value in mols2]\n",
    "filtered_mols1 = [m for (m, c) in zip(mols1, null_mask) if c]\n",
    "filtered_mols2 = [m for (m, c) in zip(mols2, null_mask) if c]\n",
    "\n",
    "# Compute fingerprints for each molecule\n",
    "mfpgen = rdFingerprintGenerator.GetMorganGenerator(radius=2, fpSize=2048)\n",
    "fps1 = [mfpgen.GetFingerprint(mol) for mol in filtered_mols1]\n",
    "fps2 = [mfpgen.GetFingerprint(mol) for mol in filtered_mols2]\n",
    "\n",
    "# Calculate Tanimoto similarities\n",
    "tanimoto_similarities = calculate_tanimoto_similarities(fps1, fps2)\n",
    "\n",
    "# Append null molecules (=0)\n",
    "n_null = sum([not v for v in null_mask])\n",
    "tanimoto_similarities = tanimoto_similarities + ([0]*n_null)\n",
    "\n",
    "# Calculate the mean similarity\n",
    "mean_similarity = np.mean(tanimoto_similarities)\n",
    "\n",
    "# Print the mean similarity\n",
    "print(f\"Mean Tanimoto Similarity: {mean_similarity:.2f}\")"
   ]
  }
 ],
 "metadata": {
  "kernelspec": {
   "display_name": "Python 3 (ipykernel)",
   "language": "python",
   "name": "python3"
  },
  "language_info": {
   "codemirror_mode": {
    "name": "ipython",
    "version": 3
   },
   "file_extension": ".py",
   "mimetype": "text/x-python",
   "name": "python",
   "nbconvert_exporter": "python",
   "pygments_lexer": "ipython3",
   "version": "3.10.14"
  }
 },
 "nbformat": 4,
 "nbformat_minor": 5
}
