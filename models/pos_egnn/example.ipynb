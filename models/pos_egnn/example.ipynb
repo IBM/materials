{
 "cells": [
  {
   "cell_type": "markdown",
   "metadata": {},
   "source": [
    "# POS-EGNN "
   ]
  },
  {
   "cell_type": "markdown",
   "metadata": {},
   "source": [
    "## Setup"
   ]
  },
  {
   "cell_type": "code",
   "execution_count": 1,
   "metadata": {},
   "outputs": [],
   "source": [
    "# Uncomment to install notebook-only dependencies\n",
    "# !pip install nglview ipywidgets"
   ]
  },
  {
   "cell_type": "code",
   "execution_count": 2,
   "metadata": {},
   "outputs": [
    {
     "data": {
      "application/vnd.jupyter.widget-view+json": {
       "model_id": "12de32b879b24ca08342d3b47385b933",
       "version_major": 2,
       "version_minor": 0
      },
      "text/plain": []
     },
     "metadata": {},
     "output_type": "display_data"
    }
   ],
   "source": [
    "import nglview as nv\n",
    "import torch\n",
    "from ase import units\n",
    "from ase.io import read\n",
    "from ase.md.langevin import Langevin\n",
    "\n",
    "from posegnn.calculator import PosEGNNCalculator"
   ]
  },
  {
   "cell_type": "code",
   "execution_count": 3,
   "metadata": {},
   "outputs": [],
   "source": [
    "device = \"cpu\"\n",
    "torch.set_float32_matmul_precision(\"high\")"
   ]
  },
  {
   "cell_type": "markdown",
   "metadata": {},
   "source": [
    "## Feature Extraction"
   ]
  },
  {
   "cell_type": "code",
   "execution_count": 4,
   "metadata": {},
   "outputs": [
    {
     "data": {
      "text/plain": [
       "torch.Size([27, 256])"
      ]
     },
     "execution_count": 4,
     "metadata": {},
     "output_type": "execute_result"
    }
   ],
   "source": [
    "# Please download checkpoint from https://huggingface.co/ibm-research/materials.pos-egnn\n",
    "calculator = PosEGNNCalculator(\"pos-egnn.v1-6M.ckpt\", device=device, compute_stress=False)\n",
    "atoms = read(\"inputs/3BPA.xyz\", index=0)\n",
    "data = calculator._build_data(atoms)\n",
    "embeddings = calculator.model.forward(data.to(device))[\"embedding_0\"][:,:,:, 1].squeeze(2)\n",
    "\n",
    "embeddings.shape"
   ]
  },
  {
   "cell_type": "markdown",
   "metadata": {},
   "source": [
    "## Inference"
   ]
  },
  {
   "cell_type": "code",
   "execution_count": 5,
   "metadata": {},
   "outputs": [],
   "source": [
    "out = calculator.model.compute_properties(data, compute_stress=False)\n",
    "energy = out[\"total_energy\"]\n",
    "force = out[\"force\"]"
   ]
  },
  {
   "cell_type": "code",
   "execution_count": 6,
   "metadata": {},
   "outputs": [
    {
     "data": {
      "text/plain": [
       "(tensor([-175.0519], grad_fn=<AddBackward0>),\n",
       " tensor([[ 0.3428, -0.4197,  0.7246],\n",
       "         [-0.8685, -0.1219, -2.3050],\n",
       "         [ 0.2631,  0.0661,  0.8548],\n",
       "         [-0.2307,  0.0230, -0.5161],\n",
       "         [-0.4390,  2.7678, -0.7030],\n",
       "         [ 0.0393, -0.5039,  1.0452],\n",
       "         [ 0.3763, -2.2708, -0.7662],\n",
       "         [ 0.2588, -1.6086, -0.0870],\n",
       "         [-0.0932, -0.2467, -0.4807],\n",
       "         [ 0.0185,  1.0018,  2.1512],\n",
       "         [-0.4606,  1.3631, -0.3847],\n",
       "         [ 0.3861, -0.3217,  0.6269],\n",
       "         [-0.2910,  0.2251, -0.2673],\n",
       "         [ 1.3340, -1.7278, -0.0881],\n",
       "         [-0.9644,  1.1447,  1.0665],\n",
       "         [-0.7468,  0.5678,  0.0310],\n",
       "         [ 0.4204,  0.7406, -0.6954],\n",
       "         [-0.2565,  0.2528,  0.2541],\n",
       "         [ 2.0052, -0.3826, -0.2691],\n",
       "         [-0.0074,  0.4379, -0.2768],\n",
       "         [ 0.6456, -0.5602, -0.1124],\n",
       "         [-0.0060, -1.0381,  0.2364],\n",
       "         [-0.0415,  0.0296, -0.0675],\n",
       "         [-0.8607,  0.0030,  0.0678],\n",
       "         [-0.0546,  0.0535, -0.0684],\n",
       "         [-0.2629,  0.5835,  0.1961],\n",
       "         [-0.5061, -0.0583, -0.1668]]))"
      ]
     },
     "execution_count": 6,
     "metadata": {},
     "output_type": "execute_result"
    }
   ],
   "source": [
    "energy, force"
   ]
  },
  {
   "cell_type": "code",
   "execution_count": 7,
   "metadata": {},
   "outputs": [
    {
     "data": {
      "text/plain": [
       "(array([-175.05188], dtype=float32),\n",
       " array([[ 0.34280193, -0.4196788 ,  0.72462475],\n",
       "        [-0.8685478 , -0.1218636 , -2.3050241 ],\n",
       "        [ 0.26306948,  0.06607056,  0.8547611 ],\n",
       "        [-0.23073699,  0.0230464 , -0.51613975],\n",
       "        [-0.4390195 ,  2.7678292 , -0.70297706],\n",
       "        [ 0.03933173, -0.50390184,  1.0451794 ],\n",
       "        [ 0.3762841 , -2.2708364 , -0.7662431 ],\n",
       "        [ 0.2588454 , -1.6086005 , -0.08700079],\n",
       "        [-0.0931953 , -0.24666795, -0.48069412],\n",
       "        [ 0.0184921 ,  1.0017664 ,  2.1512074 ],\n",
       "        [-0.46055824,  1.3630679 , -0.3847049 ],\n",
       "        [ 0.38605824, -0.32170495,  0.6269282 ],\n",
       "        [-0.29103592,  0.22509198, -0.26729935],\n",
       "        [ 1.3340424 , -1.7278178 , -0.08812346],\n",
       "        [-0.9644211 ,  1.1447096 ,  1.0665404 ],\n",
       "        [-0.7467996 ,  0.56782794,  0.03098067],\n",
       "        [ 0.42040414,  0.74056077, -0.69537413],\n",
       "        [-0.25654244,  0.2528266 ,  0.25414667],\n",
       "        [ 2.0051587 , -0.382573  , -0.26911476],\n",
       "        [-0.0074314 ,  0.43786597, -0.27683526],\n",
       "        [ 0.64563817, -0.5602142 , -0.11240271],\n",
       "        [-0.00601372, -1.0380803 ,  0.23635206],\n",
       "        [-0.04149584,  0.02955315, -0.06748017],\n",
       "        [-0.86066115,  0.00299226,  0.06783119],\n",
       "        [-0.05461255,  0.05352218, -0.0684434 ],\n",
       "        [-0.26291835,  0.58347815,  0.19614604],\n",
       "        [-0.5061368 , -0.05826893, -0.16684096]], dtype=float32))"
      ]
     },
     "execution_count": 7,
     "metadata": {},
     "output_type": "execute_result"
    }
   ],
   "source": [
    "atoms.calc = calculator\n",
    "atoms.get_total_energy(), atoms.get_forces()"
   ]
  },
  {
   "cell_type": "markdown",
   "metadata": {},
   "source": [
    "## Molecular Dynamics Simulation"
   ]
  },
  {
   "cell_type": "code",
   "execution_count": 8,
   "metadata": {},
   "outputs": [
    {
     "data": {
      "text/plain": [
       "True"
      ]
     },
     "execution_count": 8,
     "metadata": {},
     "output_type": "execute_result"
    }
   ],
   "source": [
    "dyn = Langevin(atoms=atoms, friction=0.005, temperature_K=310, timestep=0.5 * units.fs)\n",
    "\n",
    "def write_frame():\n",
    "    dyn.atoms.write(\"output.xyz\", append=True)\n",
    "\n",
    "dyn.attach(write_frame, interval=1)\n",
    "dyn.run(100)"
   ]
  },
  {
   "cell_type": "code",
   "execution_count": 9,
   "metadata": {},
   "outputs": [
    {
     "data": {
      "application/vnd.jupyter.widget-view+json": {
       "model_id": "0572ff99e0a64cf299638cf08e9f769a",
       "version_major": 2,
       "version_minor": 0
      },
      "text/plain": [
       "NGLWidget(max_frame=100)"
      ]
     },
     "metadata": {},
     "output_type": "display_data"
    }
   ],
   "source": [
    "traj = read('output.xyz', index=slice(None))\n",
    "view = nv.show_asetraj(traj)\n",
    "display(view)"
   ]
  }
 ],
 "metadata": {
  "kernelspec": {
   "display_name": "py311",
   "language": "python",
   "name": "python3"
  },
  "language_info": {
   "codemirror_mode": {
    "name": "ipython",
    "version": 3
   },
   "file_extension": ".py",
   "mimetype": "text/x-python",
   "name": "python",
   "nbconvert_exporter": "python",
   "pygments_lexer": "ipython3",
   "version": "3.11.11"
  }
 },
 "nbformat": 4,
 "nbformat_minor": 2
}
