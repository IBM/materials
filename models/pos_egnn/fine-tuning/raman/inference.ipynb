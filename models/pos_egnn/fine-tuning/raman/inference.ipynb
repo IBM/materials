{
 "cells": [
  {
   "cell_type": "markdown",
   "metadata": {},
   "source": [
    "# Raman spectrum model\n",
    "\n",
    "This repository contains Python code for performing inference of Raman spectra using an AI model. The model was fine-tuned from the Position-based Equivariant Graph Neural Network (POS-EGNN), a foundation model for chemistry and materials science. The only data required to execute Raman spectrum inference is crystallographic information of the target material.\n",
    "\n",
    "The POS-EGNN model served as the pre-trained foundation for this work. It was originally trained on 150,000 materials from the Materials Project Trajectory (MPtrj) dataset to predict energies, forces, and stress. A fine-tuning task was then performed on POS-EGNN to develop the final model for Raman spectrum prediction. This Raman model was trained on approximately 5,400 different materials, combining experimental data from the Raman Open Database (ROD) and density functional theory (DFT) Raman spectra from the Computational Raman Database (CRD).\n",
    "\n",
    "To perform inference, the input data must include the crystallographic information of the material: (i) atomic positions, (ii) unit cell representation (lattice), and (iii) atomic numbers. The model’s output is a unit vector of 4,000 elements, where each position corresponds to a Raman spectrum intensity value. The model predicts a spectrum with a frequency resolution of 1 cm⁻¹, ranging from 0 to 4000 cm⁻¹.\n",
    "\n",
    "Code (GitHub): https://github.com/IBM/materials/tree/main/models/pos_egnn\n",
    "\n",
    "Model (HuggingFace): https://huggingface.co/ibm-research/materials.pos-egnn/blob/main/pos-egnn_ft-raman.v3.ckpt\n",
    "\n",
    "## Getting Started \n",
    "Make sure to have Python 3.12 installed.\n",
    "\n",
    "Create a project folder. \n",
    "\n",
    "Copy the folder Morningstar, requirements.txt and inference.ipynb, available on Github, to the project folder. \n",
    "\n",
    "Then, follow these steps below to replicate our environment and install the necessary libraries:\n",
    "##### •\tpython3.12 -m venv env\n",
    "##### •\tsource env/bin/activate\n",
    "##### •\tpip install -r requirements.txt\n",
    "\n",
    "## Example\n",
    "Please execute the inference.ipynb step-by-step to perform the Raman spectrum inference with the model. Feel free to adapt it according to your needs.\n"
   ]
  },
  {
   "cell_type": "code",
   "execution_count": null,
   "metadata": {},
   "outputs": [],
   "source": [
    "print(\"** Loading libraries **\")\n",
    "import wget\n",
    "from huggingface_hub import hf_hub_download\n",
    "from pymatgen.core import Structure\n",
    "import numpy as np\n",
    "import matplotlib.pyplot as plt\n",
    "from model.model import Model\n",
    "import torch\n",
    "from torch_geometric.data import Data\n",
    "import warnings\n",
    "warnings.filterwarnings(\"ignore\")"
   ]
  },
  {
   "cell_type": "code",
   "execution_count": null,
   "metadata": {},
   "outputs": [],
   "source": [
    "# Download a CIF file for the inference\n",
    "\n",
    "# Example:\n",
    "# Material name: Montroydite (Mercury Oxide)\n",
    "# Chemical Formula: HgO\n",
    "# Database: Crystallography Open Database (COD)\n",
    "# Link: https://www.crystallography.net/cod/9012530.html\n",
    "# Reference: COD ID = 9012530\n",
    "# Raman spectrum for reference: https://solsa.crystallography.net/rod/1000171.html\n",
    "\n",
    "cif_url= \"https://www.crystallography.net/cod/9012530.cif?CODSESSION=tnu9n62prput15usci5brvkf7t\"\n",
    "cif_file = 'file.cif'\n",
    "wget.download(cif_url, cif_file)\n",
    "print('cif downloaded')"
   ]
  },
  {
   "cell_type": "code",
   "execution_count": null,
   "metadata": {},
   "outputs": [],
   "source": [
    "# Extract material structure using Pymatgen library\n",
    "# z: Array with atomic numbers of the material\n",
    "# pos: Array with atomic positions of the material\n",
    "# box: Array with lattice information of the material\n",
    "\n",
    "structure = Structure.from_file(cif_file)\n",
    "box = structure.lattice.matrix\n",
    "pos = structure.cart_coords\n",
    "z = structure.atomic_numbers"
   ]
  },
  {
   "cell_type": "code",
   "execution_count": null,
   "metadata": {},
   "outputs": [],
   "source": [
    "# Input data representation for the inference, in Torch Geometric format\n",
    "\n",
    "data = Data()\n",
    "data.pos = torch.tensor(pos, dtype=torch.float)\n",
    "data.z = torch.tensor(z, dtype=torch.long)\n",
    "data.box = torch.tensor(box, dtype=torch.float)\n",
    "data.batch = torch.zeros(len(z), dtype=torch.long)\n",
    "data.num_graphs=1"
   ]
  },
  {
   "cell_type": "code",
   "execution_count": null,
   "metadata": {},
   "outputs": [],
   "source": [
    "# Download the model\n",
    "# AI model for Raman spectrum inference using crystallograph information\n",
    "\n",
    "model_file = hf_hub_download(repo_id=\"ibm-research/materials.pos-egnn\", filename=\"pos-egnn_ft-raman.v3.ckpt\")\n",
    "print('model downloaded')"
   ]
  },
  {
   "cell_type": "code",
   "execution_count": null,
   "metadata": {},
   "outputs": [],
   "source": [
    "# Load model file\n",
    "model = Model.load_from_checkpoint(model_file, strict=False)"
   ]
  },
  {
   "cell_type": "code",
   "execution_count": null,
   "metadata": {},
   "outputs": [],
   "source": [
    "# Perform model inference\n",
    "model.decoders[\"Spectra\"].set_context_state(\"RAMAN_\")\n",
    "out = model(data)\n",
    "result = model.decoders[\"Spectra\"](out)\n",
    "predicted_spectrum = result['spectrum'].detach().numpy()[0]"
   ]
  },
  {
   "cell_type": "code",
   "execution_count": null,
   "metadata": {},
   "outputs": [],
   "source": [
    "# Plot raman spectrum\n",
    "# Spectrum resolution: 1 (cm-1)\n",
    "# Spectrum range: 0 - 4000 (cm-1)\n",
    "x = np.arange(4000)\n",
    "formula = structure.reduced_formula\n",
    "\n",
    "figure, axis = plt.subplots(figsize=(7, 5))\n",
    "axis.set_title(\"Predicted Raman Spectrum\", fontsize=18)\n",
    "axis.set_xlabel(\"Frequency ($cm^{-1}$)\",fontsize=18)\n",
    "axis.set_ylabel(\"Intensity (Arbitrary Unit)\",fontsize=18)\n",
    "axis.tick_params(axis='x', labelrotation=90)\n",
    "plt.yticks(fontsize=16, fontstyle='italic')\n",
    "plt.xticks(fontsize=16, fontstyle='italic')\n",
    "axis.plot(x, predicted_spectrum, color='blue', label=formula)\n",
    "axis.legend(fontsize=16,loc='upper right')"
   ]
  }
 ],
 "metadata": {
  "kernelspec": {
   "display_name": "env",
   "language": "python",
   "name": "python3"
  },
  "language_info": {
   "codemirror_mode": {
    "name": "ipython",
    "version": 3
   },
   "file_extension": ".py",
   "mimetype": "text/x-python",
   "name": "python",
   "nbconvert_exporter": "python",
   "pygments_lexer": "ipython3",
   "version": "3.12.11"
  }
 },
 "nbformat": 4,
 "nbformat_minor": 4
}
