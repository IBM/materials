{
 "cells": [
  {
   "cell_type": "markdown",
   "id": "9d9b6eb8-9edb-44bd-9e5a-3a6ea67f5117",
   "metadata": {},
   "source": [
    "### Import library"
   ]
  },
  {
   "cell_type": "code",
   "execution_count": 1,
   "id": "c3ac4418",
   "metadata": {},
   "outputs": [],
   "source": [
    "from load import SELFIES"
   ]
  },
  {
   "cell_type": "markdown",
   "id": "790061cf-5470-4564-987e-aa2e492337db",
   "metadata": {},
   "source": [
    "### Initialize and load"
   ]
  },
  {
   "cell_type": "code",
   "execution_count": 2,
   "id": "85847f26-e2f4-475a-a88e-41fd9cccfc0f",
   "metadata": {},
   "outputs": [],
   "source": [
    "model = SELFIES()"
   ]
  },
  {
   "cell_type": "code",
   "execution_count": 3,
   "id": "095e864c",
   "metadata": {
    "scrolled": true
   },
   "outputs": [],
   "source": [
    "model.load(checkpoint=\"bart-2908.pickle\")"
   ]
  },
  {
   "cell_type": "markdown",
   "id": "55f1a68c-c462-4dee-9139-9befb469f176",
   "metadata": {},
   "source": [
    "### Example to get embeddings"
   ]
  },
  {
   "cell_type": "code",
   "execution_count": 4,
   "id": "2357ef0a",
   "metadata": {},
   "outputs": [
    {
     "data": {
      "application/vnd.jupyter.widget-view+json": {
       "model_id": "b494cbf9878a4f5c8f4093e38fb82fd5",
       "version_major": 2,
       "version_minor": 0
      },
      "text/plain": [
       "Map:   0%|          | 0/3 [00:00<?, ? examples/s]"
      ]
     },
     "metadata": {},
     "output_type": "display_data"
    }
   ],
   "source": [
    "smiles_list = [\"CCO\", \"O=C=O\", \"OC(=O)c1ccccc1C(=O)O\"]\n",
    "embeddings = model.encode(smiles_list)"
   ]
  },
  {
   "cell_type": "code",
   "execution_count": 5,
   "id": "3871c513-d0a9-4e70-9c18-3f0b491e07b2",
   "metadata": {},
   "outputs": [
    {
     "data": {
      "text/plain": [
       "(3, 1024)"
      ]
     },
     "execution_count": 5,
     "metadata": {},
     "output_type": "execute_result"
    }
   ],
   "source": [
    "embeddings.shape"
   ]
  },
  {
   "cell_type": "code",
   "execution_count": null,
   "id": "289a8795-d6d8-4828-b2b2-b4d4a97a4604",
   "metadata": {},
   "outputs": [],
   "source": []
  }
 ],
 "metadata": {
  "kernelspec": {
   "display_name": "Python 3 (ipykernel)",
   "language": "python",
   "name": "python3"
  },
  "language_info": {
   "codemirror_mode": {
    "name": "ipython",
    "version": 3
   },
   "file_extension": ".py",
   "mimetype": "text/x-python",
   "name": "python",
   "nbconvert_exporter": "python",
   "pygments_lexer": "ipython3",
   "version": "3.10.8"
  }
 },
 "nbformat": 4,
 "nbformat_minor": 5
}
