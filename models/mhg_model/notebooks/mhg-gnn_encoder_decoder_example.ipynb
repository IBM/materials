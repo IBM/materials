{
 "cells": [
  {
   "cell_type": "code",
   "execution_count": null,
   "id": "829ddc03",
   "metadata": {},
   "outputs": [],
   "source": [
    "import sys\n",
    "sys.path.append('..')"
   ]
  },
  {
   "cell_type": "code",
   "execution_count": null,
   "id": "ea820e23",
   "metadata": {},
   "outputs": [],
   "source": [
    "import torch\n",
    "import load"
   ]
  },
  {
   "cell_type": "markdown",
   "id": "b9a51fa8",
   "metadata": {},
   "source": [
    "# Load MHG-GNN"
   ]
  },
  {
   "cell_type": "code",
   "execution_count": null,
   "id": "c6ea1fc8",
   "metadata": {},
   "outputs": [],
   "source": [
    "model_ckp = \"models/model_checkpoints/mhg_model/pickles/mhggnn_pretrained_model_radius7_1116_2023.pickle\"\n",
    "\n",
    "model = load.load(model_name = model_ckp)\n",
    "if model is None:\n",
    "    print(\"Model not loaded, please check you have MHG pickle file\")\n",
    "else:\n",
    "    print(\"MHG model loaded\")"
   ]
  },
  {
   "cell_type": "markdown",
   "id": "b4a0b557",
   "metadata": {},
   "source": [
    "# Embeddings\n",
    "\n",
    "※ replace the smiles exaple list with your dataset"
   ]
  },
  {
   "cell_type": "code",
   "execution_count": null,
   "id": "c63a6be6",
   "metadata": {},
   "outputs": [],
   "source": [
    "with torch.no_grad():\n",
    "    repr = model.encode([\"CCO\", \"O=C=O\", \"OC(=O)c1ccccc1C(=O)O\"])\n",
    "    \n",
    "# Print the latent vectors\n",
    "print(repr)"
   ]
  },
  {
   "cell_type": "markdown",
   "id": "a59f9442",
   "metadata": {},
   "source": [
    "# Decoding"
   ]
  },
  {
   "cell_type": "code",
   "execution_count": null,
   "id": "6a0d8a41",
   "metadata": {},
   "outputs": [],
   "source": [
    "orig = model.decode(repr)\n",
    "print(orig)"
   ]
  }
 ],
 "metadata": {
  "kernelspec": {
   "display_name": "Python 3 (ipykernel)",
   "language": "python",
   "name": "python3"
  },
  "language_info": {
   "codemirror_mode": {
    "name": "ipython",
    "version": 3
   },
   "file_extension": ".py",
   "mimetype": "text/x-python",
   "name": "python",
   "nbconvert_exporter": "python",
   "pygments_lexer": "ipython3",
   "version": "3.7.10"
  }
 },
 "nbformat": 4,
 "nbformat_minor": 5
}
